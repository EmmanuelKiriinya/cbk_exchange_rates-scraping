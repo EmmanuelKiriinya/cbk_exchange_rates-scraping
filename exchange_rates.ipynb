{
 "cells": [
  {
   "cell_type": "code",
   "execution_count": 2,
   "metadata": {},
   "outputs": [],
   "source": [
    "# Loading libraries\n",
    "import pandas as pd\n",
    "from bs4 import BeautifulSoup\n",
    "import numpy as np\n",
    "from sqlalchemy import create_engine\n",
    "import requests, json\n",
    "import os\n",
    "from dotenv import load_dotenv"
   ]
  },
  {
   "cell_type": "code",
   "execution_count": 3,
   "metadata": {},
   "outputs": [
    {
     "name": "stdout",
     "output_type": "stream",
     "text": [
      "[['05/01/2024', 'US DOLLAR', '157.9012'], ['05/01/2024', 'STG POUND', '200.1950'], ['05/01/2024', 'EURO', '172.7439'], ['05/01/2024', 'SA RAND', '8.4378'], ['05/01/2024', 'KES / USHS', '24.0657'], ['05/01/2024', 'KES / TSHS', '15.8960'], ['05/01/2024', 'KES / RWF', '7.9923'], ['05/01/2024', 'KES / BIF', '18.0461'], ['05/01/2024', 'AE DIRHAM', '42.9926'], ['05/01/2024', 'CAN $', '118.3091']]\n"
     ]
    }
   ],
   "source": [
    "# Scraping from central bank's website\n",
    "url = 'https://www.centralbank.go.ke/wp-admin/admin-ajax.php?action=get_wdtable&table_id=193'\n",
    "response = requests.get(url)\n",
    "json_data = response.json()\n",
    "#json_data\n",
    "fx_data = json_data[\"data\"]\n",
    "print(fx_data)"
   ]
  },
  {
   "cell_type": "code",
   "execution_count": 4,
   "metadata": {},
   "outputs": [
    {
     "name": "stdout",
     "output_type": "stream",
     "text": [
      "        Date    Currency      Rate\n",
      "0 2024-01-05   US DOLLAR  157.9012\n",
      "1 2024-01-05   STG POUND  200.1950\n",
      "2 2024-01-05        EURO  172.7439\n",
      "3 2024-01-05     SA RAND    8.4378\n",
      "4 2024-01-05  KES / USHS   24.0657\n"
     ]
    }
   ],
   "source": [
    "# Create a DataFrame\n",
    "df = pd.DataFrame(fx_data, columns=[\"Date\", \"Currency\", \"Rate\"])\n",
    "\n",
    "# Convert Date to datetime\n",
    "df['Date'] = pd.to_datetime(df['Date'], format='%d/%m/%Y')\n",
    "\n",
    "# Convert Rate to float\n",
    "df['Rate'] = df['Rate'].astype(float)\n",
    "\n",
    "print(df.head())"
   ]
  },
  {
   "cell_type": "code",
   "execution_count": 30,
   "metadata": {},
   "outputs": [],
   "source": [
    "username = os.getenv(\"DB_USERMANE\")\n",
    "password = os.getenv(\"DB_PASS\")\n",
    "host = os.getenv(\"DB_HOST\")\n",
    "port = os.getenv(\"DB_PORT\")"
   ]
  },
  {
   "cell_type": "code",
   "execution_count": 28,
   "metadata": {},
   "outputs": [],
   "source": [
    "#  Loading into a database\n",
    "engine = create_engine(f\"postgresql://postgres:{password}@{host}:{port}/postgres\")\n"
   ]
  },
  {
   "cell_type": "code",
   "execution_count": 29,
   "metadata": {},
   "outputs": [
    {
     "data": {
      "text/plain": [
       "10"
      ]
     },
     "execution_count": 29,
     "metadata": {},
     "output_type": "execute_result"
    }
   ],
   "source": [
    "df.to_sql(\"exchange_rates\", engine, if_exists='replace', index=False, schema=\"cbk\")"
   ]
  }
 ],
 "metadata": {
  "kernelspec": {
   "display_name": "base",
   "language": "python",
   "name": "python3"
  },
  "language_info": {
   "codemirror_mode": {
    "name": "ipython",
    "version": 3
   },
   "file_extension": ".py",
   "mimetype": "text/x-python",
   "name": "python",
   "nbconvert_exporter": "python",
   "pygments_lexer": "ipython3",
   "version": "3.12.7"
  }
 },
 "nbformat": 4,
 "nbformat_minor": 2
}
